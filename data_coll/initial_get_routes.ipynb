{
 "cells": [
  {
   "cell_type": "markdown",
   "metadata": {},
   "source": [
    "This file is used to run the initial api call on Mountain Project to get a dataset of routes organized by the input regions."
   ]
  },
  {
   "cell_type": "code",
   "execution_count": 66,
   "metadata": {},
   "outputs": [
    {
     "name": "stdout",
     "output_type": "stream",
     "text": [
      "The autoreload extension is already loaded. To reload it, use:\n",
      "  %reload_ext autoreload\n"
     ]
    }
   ],
   "source": [
    "from pymongo import MongoClient\n",
    "import json, re, requests, pprint, urllib\n",
    "from bs4 import BeautifulSoup\n",
    "from mp_api import MP\n",
    "import numpy as np\n",
    "import pandas as pd\n",
    "%load_ext autoreload\n",
    "%autoreload 2"
   ]
  },
  {
   "cell_type": "code",
   "execution_count": 5,
   "metadata": {},
   "outputs": [],
   "source": [
    "key_path = '../data/mp_api_key.txt'\n",
    "with open(key_path, 'r') as key_text:\n",
    "    key = key_text.read()"
   ]
  },
  {
   "cell_type": "code",
   "execution_count": 7,
   "metadata": {},
   "outputs": [
    {
     "name": "stdout",
     "output_type": "stream",
     "text": [
      "                             lat         lon  distance  num_routes\n",
      "place                                                             \n",
      "squamish_chief         49.676906 -123.152298         5         500\n",
      "squamish_smoke_bluffs  49.706507 -123.142327         5         500\n",
      "squamish_murrin_park   49.644247 -123.208615         5         500\n",
      "squamish_chek          49.907000 -123.162000        10         500\n",
      "smith                  44.367954 -121.142405        50         500\n",
      "index                  47.818521 -121.571301        50         500\n",
      "exits                  47.427568 -121.633499        50         500\n",
      "vantage                47.027962 -119.963285        50         500\n",
      "leavenworth            47.542495 -120.725364        50         500\n",
      "tieton                 46.684000 -120.958000        50         500\n",
      "mazama                 48.593000 -120.406000        50         500\n",
      "erie                   48.453000 -122.627000        50         500\n"
     ]
    }
   ],
   "source": [
    "climb_locations = pd.read_table('../data_coll/climb_locations.txt', sep = ' ', header=0, index_col=0)\n",
    "print(climb_locations)"
   ]
  },
  {
   "cell_type": "code",
   "execution_count": 99,
   "metadata": {},
   "outputs": [],
   "source": [
    "client = MongoClient('localhost', 27017)\n",
    "db = 'mountain_project'\n",
    "collection = 'regional_routes'\n",
    "if collection in client[db].list_collection_names():\n",
    "    (client[db])[collection].drop()\n",
    "\n",
    "region_db_creation = MP(key, client, db, collection)"
   ]
  },
  {
   "cell_type": "code",
   "execution_count": null,
   "metadata": {},
   "outputs": [],
   "source": [
    "for region in climb_locations.index:\n",
    "    lat = climb_locations.loc[region]['lat']\n",
    "    lon = climb_locations.loc[region]['lon']\n",
    "    dist = climb_locations.loc[region]['distance']\n",
    "    num_routes = climb_locations.loc[region]['num_routes']\n",
    "    region_db_creation.api_get_routes_lat_long(region, lat, lon, dist, num_routes)"
   ]
  },
  {
   "cell_type": "code",
   "execution_count": null,
   "metadata": {
    "scrolled": true
   },
   "outputs": [],
   "source": [
    "pprint.pprint(region_db_creation.collection.find_one())"
   ]
  },
  {
   "cell_type": "code",
   "execution_count": 108,
   "metadata": {},
   "outputs": [],
   "source": [
    "route_urls = []\n",
    "\n",
    "for region in climb_locations.index:\n",
    "    routes = region_db_creation.collection.find_one({'region': region})['data']\n",
    "    route_urls += [routes[idx]['url'] for idx in range(len(routes))]\n",
    "\n",
    "with open('../data/route_urls.txt', 'w') as out:\n",
    "    [out.write(route_url + '\\n') for route_url in route_urls]"
   ]
  }
 ],
 "metadata": {
  "kernelspec": {
   "display_name": "Python (gal)",
   "language": "python",
   "name": "gal"
  },
  "language_info": {
   "codemirror_mode": {
    "name": "ipython",
    "version": 3
   },
   "file_extension": ".py",
   "mimetype": "text/x-python",
   "name": "python",
   "nbconvert_exporter": "python",
   "pygments_lexer": "ipython3",
   "version": "3.8.1"
  }
 },
 "nbformat": 4,
 "nbformat_minor": 4
}
