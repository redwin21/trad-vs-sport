{
 "cells": [
  {
   "cell_type": "markdown",
   "metadata": {},
   "source": [
    "This file is used to take the url's from the initial collection of routes and scrape the \"stats\" web page for each route with the ultimate goal of collecting the ID of each climber who has climbed that route."
   ]
  },
  {
   "cell_type": "code",
   "execution_count": 70,
   "metadata": {},
   "outputs": [
    {
     "name": "stdout",
     "output_type": "stream",
     "text": [
      "The autoreload extension is already loaded. To reload it, use:\n",
      "  %reload_ext autoreload\n"
     ]
    }
   ],
   "source": [
    "from pymongo import MongoClient\n",
    "import json, re, requests, pprint, urllib, time\n",
    "from bs4 import BeautifulSoup\n",
    "from mp_api import MP\n",
    "import numpy as np\n",
    "import pandas as pd\n",
    "%load_ext autoreload\n",
    "%autoreload 2"
   ]
  },
  {
   "cell_type": "code",
   "execution_count": 31,
   "metadata": {},
   "outputs": [],
   "source": [
    "key_path = '../data/mp_api_key.txt'\n",
    "with open(key_path, 'r') as key_text:\n",
    "    key = key_text.read()"
   ]
  },
  {
   "cell_type": "code",
   "execution_count": 32,
   "metadata": {},
   "outputs": [],
   "source": [
    "url_path = '../data/route_urls.txt'\n",
    "with open(url_path, 'r') as url_text:\n",
    "    route_urls = url_text.read().splitlines()"
   ]
  },
  {
   "cell_type": "code",
   "execution_count": 72,
   "metadata": {},
   "outputs": [],
   "source": [
    "client = MongoClient('localhost', 27017)\n",
    "db = 'mountain_project'\n",
    "collection = 'route_stats_page'\n",
    "if collection in client[db].list_collection_names():\n",
    "    (client[db])[collection].drop()\n",
    "\n",
    "region_db_creation = MP(key, client, db, collection)\n",
    "\n",
    "for route in route_urls:\n",
    "    region_db_creation.scrape_url(route)\n",
    "    time.sleep(1)"
   ]
  },
  {
   "cell_type": "code",
   "execution_count": 75,
   "metadata": {},
   "outputs": [
    {
     "name": "stdout",
     "output_type": "stream",
     "text": [
      "route_id user_id\n",
      "105806397 10333\n"
     ]
    }
   ],
   "source": [
    "soup = BeautifulSoup(region_db_creation.collection.find_one()['route_stats_page'], 'html')\n",
    "print('route_id', 'user_id')\n",
    "print(region_db_creation.collection.find_one()['route_id'],\n",
    "      soup.find('table', {'class': \"table table-striped\"}).find_all('a')[0]['href'].split('/')[4])"
   ]
  },
  {
   "cell_type": "code",
   "execution_count": 74,
   "metadata": {},
   "outputs": [
    {
     "data": {
      "text/plain": [
       "4982"
      ]
     },
     "execution_count": 74,
     "metadata": {},
     "output_type": "execute_result"
    }
   ],
   "source": [
    "region_db_creation.collection.count_documents({})"
   ]
  },
  {
   "cell_type": "code",
   "execution_count": 84,
   "metadata": {},
   "outputs": [
    {
     "name": "stdout",
     "output_type": "stream",
     "text": [
      "No data provided for 106935343, counter: 1433\n",
      "No data provided for 106813219, counter: 2231\n",
      "No data provided for 109326535, counter: 3036\n",
      "No data provided for 108850918, counter: 3459\n",
      "No data provided for 117849202, counter: 4024\n",
      "No data provided for 117849159, counter: 4025\n",
      "No data provided for 105797867, counter: 4308\n",
      "No data provided for 111075283, counter: 4431\n",
      "No data provided for 117783580, counter: 4442\n",
      "No data provided for 114425782, counter: 4461\n",
      "No data provided for 114425729, counter: 4483\n",
      "No data provided for 114425763, counter: 4503\n",
      "No data provided for 114425776, counter: 4505\n",
      "No data provided for 114425748, counter: 4507\n",
      "No data provided for 114425737, counter: 4512\n",
      "No data provided for 117783393, counter: 4536\n",
      "No data provided for 114425723, counter: 4574\n",
      "No data provided for 112447859, counter: 4798\n"
     ]
    }
   ],
   "source": [
    "unique_user_ids = []\n",
    "unique_route_ids = []\n",
    "\n",
    "for counter, route_page in enumerate(region_db_creation.collection.find()):\n",
    "    unique_route_ids.append(route_page['route_id'])\n",
    "    soup = BeautifulSoup(route_page['route_stats_page'], 'html')\n",
    "    try:\n",
    "        for user in soup.find('table', {'class': \"table table-striped\"}).find_all('a'):\n",
    "            unique_user_ids.append(user['href'].split('/')[4])\n",
    "    except:\n",
    "        print(f'No data provided for {route_page[\"route_id\"]}, counter: {counter}')\n",
    "\n",
    "unique_user_ids = list(set(unique_user_ids))"
   ]
  },
  {
   "cell_type": "code",
   "execution_count": 85,
   "metadata": {},
   "outputs": [],
   "source": [
    "with open('../data/route_ids.txt', 'w') as out:\n",
    "    [out.write(route_id + '\\n') for route_id in unique_route_ids]\n",
    "    \n",
    "with open('../data/user_ids.txt', 'w') as out:\n",
    "    [out.write(user_id + '\\n') for user_id in unique_user_ids]"
   ]
  },
  {
   "cell_type": "code",
   "execution_count": null,
   "metadata": {},
   "outputs": [],
   "source": []
  }
 ],
 "metadata": {
  "kernelspec": {
   "display_name": "Python (gal)",
   "language": "python",
   "name": "gal"
  },
  "language_info": {
   "codemirror_mode": {
    "name": "ipython",
    "version": 3
   },
   "file_extension": ".py",
   "mimetype": "text/x-python",
   "name": "python",
   "nbconvert_exporter": "python",
   "pygments_lexer": "ipython3",
   "version": "3.8.1"
  }
 },
 "nbformat": 4,
 "nbformat_minor": 4
}
