{
 "cells": [
  {
   "cell_type": "markdown",
   "metadata": {},
   "source": [
    "This file is used to take the url's from the initial collection of routes and scrape the \"stats\" web page for each route with the ultimate goal of collecting the ID of each climber who has climbed that route."
   ]
  },
  {
   "cell_type": "code",
   "execution_count": 70,
   "metadata": {},
   "outputs": [
    {
     "name": "stdout",
     "output_type": "stream",
     "text": [
      "The autoreload extension is already loaded. To reload it, use:\n",
      "  %reload_ext autoreload\n"
     ]
    }
   ],
   "source": [
    "from pymongo import MongoClient\n",
    "import json, re, requests, pprint, urllib, time\n",
    "from bs4 import BeautifulSoup\n",
    "from mp_api import MP\n",
    "import numpy as np\n",
    "import pandas as pd\n",
    "%load_ext autoreload\n",
    "%autoreload 2"
   ]
  },
  {
   "cell_type": "code",
   "execution_count": 31,
   "metadata": {},
   "outputs": [],
   "source": [
    "key_path = '../data/mp_api_key.txt'\n",
    "with open(key_path, 'r') as key_text:\n",
    "    key = key_text.read()"
   ]
  },
  {
   "cell_type": "code",
   "execution_count": 32,
   "metadata": {},
   "outputs": [],
   "source": [
    "url_path = '../data/route_urls.txt'\n",
    "with open(url_path, 'r') as url_text:\n",
    "    route_urls = url_text.read().splitlines()"
   ]
  },
  {
   "cell_type": "code",
   "execution_count": null,
   "metadata": {},
   "outputs": [],
   "source": [
    "client = MongoClient('localhost', 27017)\n",
    "db = 'mountain_project'\n",
    "collection = 'route_stats_page'\n",
    "if collection in client[db].list_collection_names():\n",
    "    (client[db])[collection].drop()\n",
    "\n",
    "region_db_creation = MP(key, client, db, collection)\n",
    "\n",
    "for route in route_urls:\n",
    "    region_db_creation.scrape_url(route)\n",
    "    time.sleep(1)"
   ]
  },
  {
   "cell_type": "code",
   "execution_count": 68,
   "metadata": {},
   "outputs": [
    {
     "name": "stdout",
     "output_type": "stream",
     "text": [
      "105806397 10333\n"
     ]
    }
   ],
   "source": [
    "soup = BeautifulSoup(region_db_creation.collection.find_one()['route_stats_page'], 'html')\n",
    "print(region_db_creation.collection.find_one()['route_id'],\n",
    "      soup.find('table', {'class': \"table table-striped\"}).find_all('a')[0]['href'].split('/')[4])"
   ]
  },
  {
   "cell_type": "code",
   "execution_count": null,
   "metadata": {},
   "outputs": [],
   "source": []
  }
 ],
 "metadata": {
  "kernelspec": {
   "display_name": "Python (gal)",
   "language": "python",
   "name": "gal"
  },
  "language_info": {
   "codemirror_mode": {
    "name": "ipython",
    "version": 3
   },
   "file_extension": ".py",
   "mimetype": "text/x-python",
   "name": "python",
   "nbconvert_exporter": "python",
   "pygments_lexer": "ipython3",
   "version": "3.8.1"
  }
 },
 "nbformat": 4,
 "nbformat_minor": 4
}
