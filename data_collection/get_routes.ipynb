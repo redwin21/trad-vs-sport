{
 "cells": [
  {
   "cell_type": "markdown",
   "metadata": {},
   "source": [
    "This notebook takes a list of route ids and calls the Mountain Project api to acquire the route information."
   ]
  },
  {
   "cell_type": "code",
   "execution_count": 9,
   "metadata": {},
   "outputs": [
    {
     "name": "stdout",
     "output_type": "stream",
     "text": [
      "The autoreload extension is already loaded. To reload it, use:\n",
      "  %reload_ext autoreload\n"
     ]
    }
   ],
   "source": [
    "from pymongo import MongoClient\n",
    "import json, re, requests, pprint, urllib, time\n",
    "from bs4 import BeautifulSoup\n",
    "from mp_api import MP\n",
    "import numpy as np\n",
    "import pandas as pd\n",
    "%load_ext autoreload\n",
    "%autoreload 2"
   ]
  },
  {
   "cell_type": "code",
   "execution_count": 10,
   "metadata": {},
   "outputs": [],
   "source": [
    "key_path = '../data/mp_api_key.txt'\n",
    "with open(key_path, 'r') as key_text:\n",
    "    key = key_text.read()"
   ]
  },
  {
   "cell_type": "code",
   "execution_count": 33,
   "metadata": {},
   "outputs": [
    {
     "name": "stdout",
     "output_type": "stream",
     "text": [
      "4982\n"
     ]
    }
   ],
   "source": [
    "routes_path = '../data/route_ids.txt'\n",
    "with open(routes_path, 'r') as routes_text:\n",
    "    route_ids = routes_text.read().splitlines()\n",
    "print(len(route_ids))"
   ]
  },
  {
   "cell_type": "code",
   "execution_count": 34,
   "metadata": {},
   "outputs": [],
   "source": [
    "client = MongoClient('localhost', 27017)\n",
    "db = 'mountain_project'\n",
    "collection = 'routes'\n",
    "if collection in client[db].list_collection_names():\n",
    "    (client[db])[collection].drop()\n",
    "\n",
    "regional_routes = (client[db])['regional_routes']\n",
    "\n",
    "for region in regional_routes.find():\n",
    "    routes = region['data']\n",
    "    for route in routes:\n",
    "        (client[db])[collection].insert_one(route)"
   ]
  },
  {
   "cell_type": "code",
   "execution_count": 35,
   "metadata": {},
   "outputs": [
    {
     "data": {
      "text/plain": [
       "4982"
      ]
     },
     "execution_count": 35,
     "metadata": {},
     "output_type": "execute_result"
    }
   ],
   "source": [
    "(client[db])[collection].count_documents({})"
   ]
  },
  {
   "cell_type": "code",
   "execution_count": 36,
   "metadata": {},
   "outputs": [
    {
     "name": "stdout",
     "output_type": "stream",
     "text": [
      "75614\n"
     ]
    }
   ],
   "source": [
    "new_routes_path = '../data/new_route_ids.txt'\n",
    "with open(new_routes_path, 'r') as new_routes_text:\n",
    "    route_ids = new_routes_text.read().splitlines()\n",
    "print(len(route_ids))"
   ]
  },
  {
   "cell_type": "code",
   "execution_count": null,
   "metadata": {
    "scrolled": true
   },
   "outputs": [],
   "source": [
    "client = MongoClient('localhost', 27017)\n",
    "db = 'mountain_project'\n",
    "collection = 'routes'\n",
    "\n",
    "route_db = MP(key, client, db, collection)\n",
    "\n",
    "for idx in range(100, len(route_ids), 100):\n",
    "    try:\n",
    "        route_db.api_get_routes(route_ids[idx - 100: idx])\n",
    "    except:\n",
    "        print('broken api call, idx: ', idx)\n",
    "    last = idx\n",
    "route_db.api_get_routes(route_ids[last:])"
   ]
  },
  {
   "cell_type": "code",
   "execution_count": 41,
   "metadata": {},
   "outputs": [
    {
     "data": {
      "text/plain": [
       "80495"
      ]
     },
     "execution_count": 41,
     "metadata": {},
     "output_type": "execute_result"
    }
   ],
   "source": [
    "route_db.collection.count_documents({})"
   ]
  },
  {
   "cell_type": "code",
   "execution_count": 51,
   "metadata": {},
   "outputs": [
    {
     "name": "stdout",
     "output_type": "stream",
     "text": [
      "{'_id': ObjectId('5e8ce16965c4c9cf4600bd91'),\n",
      " 'id': 107198282,\n",
      " 'imgMedium': 'https://cdn-files.apstatic.com/climb/108359801_medium_1494278622.jpg',\n",
      " 'imgSmall': 'https://cdn-files.apstatic.com/climb/108359801_small_1494278622.jpg',\n",
      " 'imgSmallMed': 'https://cdn-files.apstatic.com/climb/108359801_smallMed_1494278622.jpg',\n",
      " 'imgSqSmall': 'https://cdn-files.apstatic.com/climb/108359801_sqsmall_1494278622.jpg',\n",
      " 'latitude': 49.6693,\n",
      " 'location': ['International',\n",
      "              'North America',\n",
      "              'Canada',\n",
      "              'British Columbia',\n",
      "              'Squamish',\n",
      "              'Shannon Falls',\n",
      "              'Shannon Falls Wall'],\n",
      " 'longitude': -123.1583,\n",
      " 'name': 'Skywalker',\n",
      " 'pitches': 5,\n",
      " 'rating': '5.8',\n",
      " 'starVotes': 473,\n",
      " 'stars': 4.5,\n",
      " 'type': 'Trad',\n",
      " 'url': 'https://www.mountainproject.com/route/107198282/skywalker'}\n"
     ]
    }
   ],
   "source": [
    "pprint.pprint(route_db.collection.find_one({'name': 'Skywalker'}))"
   ]
  },
  {
   "cell_type": "code",
   "execution_count": null,
   "metadata": {},
   "outputs": [],
   "source": []
  }
 ],
 "metadata": {
  "kernelspec": {
   "display_name": "Python (gal)",
   "language": "python",
   "name": "gal"
  },
  "language_info": {
   "codemirror_mode": {
    "name": "ipython",
    "version": 3
   },
   "file_extension": ".py",
   "mimetype": "text/x-python",
   "name": "python",
   "nbconvert_exporter": "python",
   "pygments_lexer": "ipython3",
   "version": "3.8.1"
  }
 },
 "nbformat": 4,
 "nbformat_minor": 4
}
