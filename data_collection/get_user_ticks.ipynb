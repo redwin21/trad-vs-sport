{
 "cells": [
  {
   "cell_type": "markdown",
   "metadata": {},
   "source": [
    "This notebook is used to call the get-ticks api on Mountain Project using a list of user ids. The ticks are the routes that the user has climbed."
   ]
  },
  {
   "cell_type": "code",
   "execution_count": 1,
   "metadata": {},
   "outputs": [],
   "source": [
    "from pymongo import MongoClient\n",
    "import json, re, requests, pprint, urllib, time\n",
    "from bs4 import BeautifulSoup\n",
    "from mp_api import MP\n",
    "import numpy as np\n",
    "import pandas as pd\n",
    "%load_ext autoreload\n",
    "%autoreload 2"
   ]
  },
  {
   "cell_type": "code",
   "execution_count": 2,
   "metadata": {},
   "outputs": [],
   "source": [
    "key_path = '../data/mp_api_key.txt'\n",
    "with open(key_path, 'r') as key_text:\n",
    "    key = key_text.read()"
   ]
  },
  {
   "cell_type": "code",
   "execution_count": 8,
   "metadata": {},
   "outputs": [],
   "source": [
    "users_path = '../data/user_ids.txt'\n",
    "with open(users_path, 'r') as users_text:\n",
    "    users = users_text.read().splitlines()"
   ]
  },
  {
   "cell_type": "code",
   "execution_count": 9,
   "metadata": {},
   "outputs": [],
   "source": [
    "client = MongoClient('localhost', 27017)\n",
    "db = 'mountain_project'\n",
    "collection = 'user_ticks'\n",
    "if collection in client[db].list_collection_names():\n",
    "    (client[db])[collection].drop()\n",
    "\n",
    "user_db = MP(key, client, db, collection)\n",
    "\n",
    "for user in users:\n",
    "    user_db.api_get_ticks(user)new_route_ids"
   ]
  },
  {
   "cell_type": "code",
   "execution_count": 16,
   "metadata": {},
   "outputs": [],
   "source": [
    "routes_path = '../data/route_ids.txt'\n",
    "with open(routes_path, 'r') as routes_text:\n",
    "    route_ids = routes_text.read().splitlines()\n",
    "\n",
    "new_route_ids = []\n",
    "for user in user_db.collection.find():\n",
    "    for tick in user['ticks']:\n",
    "        if not tick['routeId'] in route_ids:\n",
    "            new_route_ids.append(tick['routeId'])"
   ]
  },
  {
   "cell_type": "code",
   "execution_count": 18,
   "metadata": {},
   "outputs": [],
   "source": [
    "new_route_ids = list(set(new_route_ids))\n",
    "\n",
    "with open('../data/new_route_ids.txt', 'w') as out:\n",
    "    [out.write(str(route_id) + '\\n') for route_id in new_route_ids]"
   ]
  },
  {
   "cell_type": "code",
   "execution_count": 15,
   "metadata": {},
   "outputs": [
    {
     "name": "stdout",
     "output_type": "stream",
     "text": [
      "7350\n"
     ]
    }
   ],
   "source": [
    "pprint.pprint(user_db.collection.count_documents({}))"
   ]
  }
 ],
 "metadata": {
  "kernelspec": {
   "display_name": "Python (gal)",
   "language": "python",
   "name": "gal"
  },
  "language_info": {
   "codemirror_mode": {
    "name": "ipython",
    "version": 3
   },
   "file_extension": ".py",
   "mimetype": "text/x-python",
   "name": "python",
   "nbconvert_exporter": "python",
   "pygments_lexer": "ipython3",
   "version": "3.8.1"
  }
 },
 "nbformat": 4,
 "nbformat_minor": 4
}
